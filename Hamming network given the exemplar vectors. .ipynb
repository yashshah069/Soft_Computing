{
 "cells": [
  {
   "cell_type": "code",
   "execution_count": 1,
   "id": "6974b87b",
   "metadata": {},
   "outputs": [],
   "source": [
    "def hamming_distance(vector1, vector2):\n",
    "    \"\"\"Calculate the Hamming distance between two binary vectors.\"\"\"\n",
    "    if len(vector1) != len(vector2):\n",
    "        raise ValueError(\"Vectors must have the same length\")\n",
    "    return sum(el1 != el2 for el1, el2 in zip(vector1, vector2))"
   ]
  },
  {
   "cell_type": "code",
   "execution_count": 2,
   "id": "ec04335b",
   "metadata": {},
   "outputs": [],
   "source": [
    "def hamming_network(input_pattern, exemplars):\n",
    "    \"\"\"Classify input pattern using the Hamming network.\"\"\"\n",
    "    min_distance = float('inf')\n",
    "    classification = None\n",
    "\n",
    "    for idx, exemplar in enumerate(exemplars):\n",
    "        distance = hamming_distance(input_pattern, exemplar)\n",
    "        if distance < min_distance:\n",
    "            min_distance = distance\n",
    "            classification = idx + 1 # Class numbering starts from 1\n",
    "        return classification"
   ]
  },
  {
   "cell_type": "code",
   "execution_count": 4,
   "id": "cc39e02c",
   "metadata": {},
   "outputs": [],
   "source": [
    "exemplars = [\n",
    "[1, -1, -1, -1],\n",
    "[-1, -1, -1, 1]\n",
    "]\n",
    "input_pattern = [1, 1, -1,-1]"
   ]
  },
  {
   "cell_type": "code",
   "execution_count": 5,
   "id": "1a1b6ce3",
   "metadata": {},
   "outputs": [
    {
     "name": "stdout",
     "output_type": "stream",
     "text": [
      "Input pattern classified as Exemplar 1\n"
     ]
    }
   ],
   "source": [
    "classification = hamming_network(input_pattern, exemplars)\n",
    "print(\"Input pattern classified as Exemplar\", classification)"
   ]
  }
 ],
 "metadata": {
  "kernelspec": {
   "display_name": "Python 3 (ipykernel)",
   "language": "python",
   "name": "python3"
  },
  "language_info": {
   "codemirror_mode": {
    "name": "ipython",
    "version": 3
   },
   "file_extension": ".py",
   "mimetype": "text/x-python",
   "name": "python",
   "nbconvert_exporter": "python",
   "pygments_lexer": "ipython3",
   "version": "3.11.5"
  }
 },
 "nbformat": 4,
 "nbformat_minor": 5
}
