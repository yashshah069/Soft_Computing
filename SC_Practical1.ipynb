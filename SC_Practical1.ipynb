{
 "cells": [
  {
   "cell_type": "markdown",
   "id": "bc29803e",
   "metadata": {},
   "source": [
    "## For AND Gate"
   ]
  },
  {
   "cell_type": "code",
   "execution_count": 37,
   "id": "8ca01feb",
   "metadata": {},
   "outputs": [],
   "source": [
    "x1 = [0,0,1,1]\n",
    "x2 = [0,1,0,1]\n",
    "w1 = [1,1,1,1]\n",
    "w2 = [1,1,1,1]\n",
    "t = 2"
   ]
  },
  {
   "cell_type": "code",
   "execution_count": 39,
   "id": "0383f89f",
   "metadata": {
    "scrolled": true
   },
   "outputs": [
    {
     "name": "stdout",
     "output_type": "stream",
     "text": [
      "x1 x2 x3 x4 t o\n",
      "0   0   1   1   2   0\n",
      "0   1   1   1   2   0\n",
      "1   0   1   1   2   0\n",
      "1   1   1   1   2   1\n"
     ]
    }
   ],
   "source": [
    "print('x1 x2 x3 x4 t o')\n",
    "for i in range(len(x1)):\n",
    "    if(x1[i]*w1[i] + x2[i]*w2[i] >= t):\n",
    "        print(x1[i],\" \",x2[i],' ',w1[i],' ',w2[i],' ',t,' ',1)\n",
    "    else:\n",
    "        print(x1[i],\" \",x2[i],' ',w1[i],' ',w2[i],' ',t,' ',0)"
   ]
  },
  {
   "cell_type": "markdown",
   "id": "f4f27e0d",
   "metadata": {},
   "source": [
    "## For OR Gate"
   ]
  },
  {
   "cell_type": "code",
   "execution_count": 52,
   "id": "fb9ef41b",
   "metadata": {},
   "outputs": [],
   "source": [
    "x1 = [0,0,1,1]\n",
    "x2 = [0,1,0,1]\n",
    "w1 = [1,1,1,1]\n",
    "w2 = [1,1,1,1]\n",
    "t = 1"
   ]
  },
  {
   "cell_type": "code",
   "execution_count": 54,
   "id": "a8ebafe7",
   "metadata": {},
   "outputs": [
    {
     "name": "stdout",
     "output_type": "stream",
     "text": [
      "x1 x2 w1 w2 t o\n",
      "0   0   1   1   1   0\n",
      "0   1   1   1   1   1\n",
      "1   0   1   1   1   1\n",
      "1   1   1   1   1   1\n"
     ]
    }
   ],
   "source": [
    "print('x1 x2 w1 w2 t o')\n",
    "for i in range(len(x2)):\n",
    "    if(x1[i]*w1[i] + x2[i]*w2[i]) >= 1:\n",
    "        print(x1[i],\" \",x2[i],' ',w1[i],' ',w2[i],' ',t,' ',1)\n",
    "    else:\n",
    "        print(x1[i],\" \",x2[i],' ',w1[i],' ',w2[i],' ',t,' ',0)\n"
   ]
  },
  {
   "cell_type": "markdown",
   "id": "8df2fe60",
   "metadata": {},
   "source": [
    "## for Not Gate"
   ]
  },
  {
   "cell_type": "code",
   "execution_count": 65,
   "id": "8c2b8bfb",
   "metadata": {},
   "outputs": [],
   "source": [
    "x = [0,1]\n",
    "w = [-1,-1]\n",
    "t = 0"
   ]
  },
  {
   "cell_type": "code",
   "execution_count": 64,
   "id": "eeeb4712",
   "metadata": {},
   "outputs": [
    {
     "name": "stdout",
     "output_type": "stream",
     "text": [
      "x w t o\n",
      "0   -1   0   1\n",
      "1   -1   0   0\n"
     ]
    }
   ],
   "source": [
    "print('x w t o')\n",
    "for i in range(len(x)):\n",
    "    if(x[i]*w[i]) >= 0:\n",
    "        print(x[i],' ', w[i], ' ',t,' ',1)\n",
    "    else:\n",
    "        print(x[i],' ', w[i], ' ',t,' ',0)"
   ]
  },
  {
   "cell_type": "code",
   "execution_count": null,
   "id": "4b4c3deb",
   "metadata": {},
   "outputs": [],
   "source": []
  }
 ],
 "metadata": {
  "kernelspec": {
   "display_name": "Python 3 (ipykernel)",
   "language": "python",
   "name": "python3"
  },
  "language_info": {
   "codemirror_mode": {
    "name": "ipython",
    "version": 3
   },
   "file_extension": ".py",
   "mimetype": "text/x-python",
   "name": "python",
   "nbconvert_exporter": "python",
   "pygments_lexer": "ipython3",
   "version": "3.11.5"
  }
 },
 "nbformat": 4,
 "nbformat_minor": 5
}
