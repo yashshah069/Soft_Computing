{
 "cells": [
  {
   "cell_type": "code",
   "execution_count": 19,
   "id": "e9dd469a",
   "metadata": {},
   "outputs": [],
   "source": [
    "import numpy as np\n",
    "class SimpleBAM:\n",
    "    def init (self, patterns_A, patterns_B):\n",
    "        self.weights = np.dot(patterns_A.T, patterns_B)\n",
    "    \n",
    "    def recall_A(self, pattern_B):\n",
    "        return np.dot(pattern_B, self.weights.T)\n",
    "    def recall_B(self, pattern_A):\n",
    "        return np.dot(pattern_A, self.weights)"
   ]
  },
  {
   "cell_type": "code",
   "execution_count": 26,
   "id": "5fa6767b",
   "metadata": {},
   "outputs": [],
   "source": [
    "# Example usage:\n",
    "if __name__ == \" __main__ \":\n",
    "    patterns_A = np.array([[1, 1, -1], [-1, 1, 1], [-1, -1, -1]])\n",
    "    patterns_B = np.array([[1, -1], [-1, 1], [1, 1]])\n",
    "    \n",
    "    bam = SimpleBAM(patterns_A, patterns_B)\n",
    "    \n",
    " # Test recall for pattern B\n",
    "    test_pattern_B = np.array([1, -1])\n",
    "    recalled_pattern_A = bam.recall_A(test_pattern_B)\n",
    "    print(\"Recalled Pattern A:\", recalled_pattern_A)\n",
    "    \n",
    "# Test recall for pattern A\n",
    "    test_pattern_A = np.array([1, 1, -1])\n",
    "    recalled_pattern_B = bam.recall_B(test_pattern_A)\n",
    "    print(\"Recalled Pattern B:\", recalled_pattern_B)"
   ]
  },
  {
   "cell_type": "code",
   "execution_count": null,
   "id": "b760aca7",
   "metadata": {},
   "outputs": [],
   "source": []
  }
 ],
 "metadata": {
  "kernelspec": {
   "display_name": "Python 3 (ipykernel)",
   "language": "python",
   "name": "python3"
  },
  "language_info": {
   "codemirror_mode": {
    "name": "ipython",
    "version": 3
   },
   "file_extension": ".py",
   "mimetype": "text/x-python",
   "name": "python",
   "nbconvert_exporter": "python",
   "pygments_lexer": "ipython3",
   "version": "3.11.5"
  }
 },
 "nbformat": 4,
 "nbformat_minor": 5
}
