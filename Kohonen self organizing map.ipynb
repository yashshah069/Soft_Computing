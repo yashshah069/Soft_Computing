{
 "cells": [
  {
   "cell_type": "code",
   "execution_count": 1,
   "id": "402ce05f",
   "metadata": {},
   "outputs": [
    {
     "name": "stdout",
     "output_type": "stream",
     "text": [
      "Input the number of weight vectors : 2\n",
      "Enter the weights of 0 weight vector :1.0 0.9 0.7 0.5 0.3\n",
      "Enter the weights of 1 weight vector :0.3 0.5 0.7 0.9 1.0\n"
     ]
    }
   ],
   "source": [
    "def distance(W,X):\n",
    "    D=0\n",
    "    for i in range(0,len(W)):\n",
    "        D=D+pow((W[i]-X[i]),2)\n",
    "    D=round(D,2)\n",
    "    return D\n",
    "\n",
    "def update_weight(W,R,X):\n",
    "    U_W=[]\n",
    "    for i in range(0,len(W)):\n",
    "        U_W.append(W[i]+(R*(X[i]-W[i])))\n",
    "    return U_W\n",
    "\n",
    "def print_weight(W,w_n):\n",
    "    for i in range(0,w_n):\n",
    "        print(f'W[{i}]={W[i]}')\n",
    "\n",
    "def print_input(X,v):\n",
    "    for i in range(0,v):\n",
    "        print(f'X[{i}]={X[i]}')\n",
    "\n",
    "W=[]\n",
    "w_n=int(input('Input the number of weight vectors : '))\n",
    "for i in range(0,w_n):\n",
    "    w_i=list(map(float,input(f'Enter the weights of {i} weight vector :').strip().split()))\n",
    "    W.append(w_i)"
   ]
  },
  {
   "cell_type": "code",
   "execution_count": null,
   "id": "7f2ef31d",
   "metadata": {
    "scrolled": true
   },
   "outputs": [
    {
     "name": "stdout",
     "output_type": "stream",
     "text": [
      "Input the number of input vectors : 2\n",
      "Enter the inputs of 0 input vector :0.0 0.5 1.0 0.5 0.0\n"
     ]
    }
   ],
   "source": [
    "X=[]\n",
    "v=int(input('Input the number of input vectors : '))\n",
    "for i in range(0,v):\n",
    "    x_i=list(map(float,input(f'Enter the inputs of {i} input vector :').strip().split()))\n",
    "    X.append(x_i)\n",
    "\n",
    "\n",
    "\n",
    "L_R=float(input('Enter the learning rate : '))\n",
    "print('Initial Weights : ')\n",
    "print_weight(W,w_n)\n",
    "print('Initial Input Vectors : ')\n",
    "print_input(X,v)\n",
    "\n",
    "k=w_n\n",
    "if (k==len(X[0])):\n",
    "    p=[]\n",
    "    for i in range(0,len(W[0])):\n",
    "        l=[]\n",
    "        for j in range(0,k):\n",
    "            l.append(W[j][i])\n",
    "        p.append(l)\n",
    "    W=[]\n",
    "    for i in range(0,len(p)):\n",
    "        W.append(p[i])\n",
    "    w_n=len(W)"
   ]
  },
  {
   "cell_type": "code",
   "execution_count": 9,
   "id": "0717acc1",
   "metadata": {},
   "outputs": [],
   "source": [
    "k=w_n\n",
    "if (k==len(X[0])):\n",
    "    p=[]\n",
    "    for i in range(0,len(W[0])):\n",
    "        l=[]\n",
    "        for j in range(0,k):\n",
    "            l.append(W[j][i])\n",
    "        p.append(l)\n",
    "    W=[]\n",
    "    for i in range(0,len(p)):\n",
    "        W.append(p[i])\n",
    "    w_n=len(W)"
   ]
  },
  {
   "cell_type": "code",
   "execution_count": 10,
   "id": "fe28d381",
   "metadata": {},
   "outputs": [
    {
     "ename": "IndexError",
     "evalue": "list index out of range",
     "output_type": "error",
     "traceback": [
      "\u001b[1;31m---------------------------------------------------------------------------\u001b[0m",
      "\u001b[1;31mIndexError\u001b[0m                                Traceback (most recent call last)",
      "Cell \u001b[1;32mIn[10], line 4\u001b[0m\n\u001b[0;32m      2\u001b[0m \u001b[38;5;28;01mfor\u001b[39;00m j \u001b[38;5;129;01min\u001b[39;00m \u001b[38;5;28mrange\u001b[39m(\u001b[38;5;241m0\u001b[39m,v):\n\u001b[0;32m      3\u001b[0m     \u001b[38;5;28;01mfor\u001b[39;00m i \u001b[38;5;129;01min\u001b[39;00m \u001b[38;5;28mrange\u001b[39m(\u001b[38;5;241m0\u001b[39m,w_n):\n\u001b[1;32m----> 4\u001b[0m         D[i]\u001b[38;5;241m=\u001b[39mdistance(W[i],X[j])\n\u001b[0;32m      5\u001b[0m     min_d\u001b[38;5;241m=\u001b[39mD\u001b[38;5;241m.\u001b[39mindex(\u001b[38;5;28mmin\u001b[39m(D))\n\u001b[0;32m      6\u001b[0m     W[min_d]\u001b[38;5;241m=\u001b[39mupdate_weight(W[min_d],L_R,X[j])\n",
      "\u001b[1;31mIndexError\u001b[0m: list index out of range"
     ]
    }
   ],
   "source": [
    "D=[None]*w_n\n",
    "for j in range(0,v):\n",
    "    for i in range(0,w_n):\n",
    "        D[i]=distance(W[i],X[j])\n",
    "    min_d=D.index(min(D))\n",
    "    W[min_d]=update_weight(W[min_d],L_R,X[j])"
   ]
  },
  {
   "cell_type": "code",
   "execution_count": 11,
   "id": "00e04b5f",
   "metadata": {},
   "outputs": [
    {
     "name": "stdout",
     "output_type": "stream",
     "text": [
      "Final Weights : \n"
     ]
    },
    {
     "ename": "IndexError",
     "evalue": "list index out of range",
     "output_type": "error",
     "traceback": [
      "\u001b[1;31m---------------------------------------------------------------------------\u001b[0m",
      "\u001b[1;31mIndexError\u001b[0m                                Traceback (most recent call last)",
      "Cell \u001b[1;32mIn[11], line 13\u001b[0m\n\u001b[0;32m     11\u001b[0m     w_n\u001b[38;5;241m=\u001b[39m\u001b[38;5;28mlen\u001b[39m(W)\n\u001b[0;32m     12\u001b[0m \u001b[38;5;28mprint\u001b[39m(\u001b[38;5;124m'\u001b[39m\u001b[38;5;124mFinal Weights : \u001b[39m\u001b[38;5;124m'\u001b[39m)\n\u001b[1;32m---> 13\u001b[0m print_weight(W,w_n)\n",
      "Cell \u001b[1;32mIn[1], line 16\u001b[0m, in \u001b[0;36mprint_weight\u001b[1;34m(W, w_n)\u001b[0m\n\u001b[0;32m     14\u001b[0m \u001b[38;5;28;01mdef\u001b[39;00m \u001b[38;5;21mprint_weight\u001b[39m(W,w_n):\n\u001b[0;32m     15\u001b[0m     \u001b[38;5;28;01mfor\u001b[39;00m i \u001b[38;5;129;01min\u001b[39;00m \u001b[38;5;28mrange\u001b[39m(\u001b[38;5;241m0\u001b[39m,w_n):\n\u001b[1;32m---> 16\u001b[0m         \u001b[38;5;28mprint\u001b[39m(\u001b[38;5;124mf\u001b[39m\u001b[38;5;124m'\u001b[39m\u001b[38;5;124mW[\u001b[39m\u001b[38;5;132;01m{\u001b[39;00mi\u001b[38;5;132;01m}\u001b[39;00m\u001b[38;5;124m]=\u001b[39m\u001b[38;5;132;01m{\u001b[39;00mW[i]\u001b[38;5;132;01m}\u001b[39;00m\u001b[38;5;124m'\u001b[39m)\n",
      "\u001b[1;31mIndexError\u001b[0m: list index out of range"
     ]
    }
   ],
   "source": [
    "if (k==len(X[0])):\n",
    "    q=[]\n",
    "    for i in range(0,len(W[0])):\n",
    "        l=[]\n",
    "        for j in range(0,len(W)):\n",
    "            l.append(W[j][i])\n",
    "        q.append(l)\n",
    "    W=[]\n",
    "    for i in range(0,len(q)):\n",
    "        W.append(q[i])\n",
    "    w_n=len(W)\n",
    "print('Final Weights : ')\n",
    "print_weight(W,w_n)"
   ]
  },
  {
   "cell_type": "code",
   "execution_count": null,
   "id": "e4120f23",
   "metadata": {},
   "outputs": [],
   "source": [
    "# Input the number of weight vectors: 2\n",
    "# Enter the weights of 0 weight vector: 1.0 0.9 0.7 0.5 0.3\n",
    "# Enter the weights of 1 weight vector: 0.3 0.5 0.7 0.9 1.0\n",
    "# Input the number of input vectors: 1\n",
    "# Enter the inputs of 0 input vectors: 0.0 0.5 1.0 0.5 0.0\n",
    "# Enter the learning rate: 2.5"
   ]
  }
 ],
 "metadata": {
  "kernelspec": {
   "display_name": "Python 3 (ipykernel)",
   "language": "python",
   "name": "python3"
  },
  "language_info": {
   "codemirror_mode": {
    "name": "ipython",
    "version": 3
   },
   "file_extension": ".py",
   "mimetype": "text/x-python",
   "name": "python",
   "nbconvert_exporter": "python",
   "pygments_lexer": "ipython3",
   "version": "3.11.5"
  }
 },
 "nbformat": 4,
 "nbformat_minor": 5
}
