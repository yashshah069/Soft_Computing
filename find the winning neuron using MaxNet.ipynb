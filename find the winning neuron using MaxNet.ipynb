{
 "cells": [
  {
   "cell_type": "code",
   "execution_count": 1,
   "id": "18294411",
   "metadata": {},
   "outputs": [],
   "source": [
    "def winner_takes_all(my_list):\n",
    "    array = []\n",
    "    for i in range(0, len(my_list)):\n",
    "        if my_list[i] > 0:\n",
    "            array.append(i)\n",
    "        return array"
   ]
  },
  {
   "cell_type": "code",
   "execution_count": 2,
   "id": "810bb942",
   "metadata": {},
   "outputs": [],
   "source": [
    "m = 0\n",
    "delta = 0\n",
    "y_in = [0]\n",
    "epoch = 0"
   ]
  },
  {
   "cell_type": "code",
   "execution_count": 3,
   "id": "53dbcde5",
   "metadata": {},
   "outputs": [
    {
     "name": "stdout",
     "output_type": "stream",
     "text": [
      "Enter number of nodes: 4\n",
      "Enter delta: 0.2\n",
      "Enter initial value: 0.3\n",
      "Enter initial value: 0.5\n",
      "Enter initial value: 0.7\n",
      "Enter initial value: 0.9\n"
     ]
    }
   ],
   "source": [
    "m = int(input(\"Enter number of nodes: \"))\n",
    "delta = float(input(\"Enter delta: \"))\n",
    "y_in = y_in * m\n",
    "for i in range(m):\n",
    "    e = float(input(\"Enter initial value: \"))\n",
    "    y_in[i] = e"
   ]
  },
  {
   "cell_type": "code",
   "execution_count": 4,
   "id": "3927480e",
   "metadata": {},
   "outputs": [
    {
     "name": "stdout",
     "output_type": "stream",
     "text": [
      "Winner is unit: 1\n",
      "Epoch: 1\n"
     ]
    }
   ],
   "source": [
    "while True:\n",
    "    epoch += 1\n",
    "    y_out = []\n",
    "    for i in range(0, m):\n",
    "        if y_in[i] >= 0:\n",
    "            y_out.append(y_in[i])\n",
    "        else:\n",
    "            y_out.append(0)\n",
    "    if len(winner_takes_all(y_out)) == 1:\n",
    "        print('Winner is unit:', winner_takes_all(y_out)[0] + 1)\n",
    "        break\n",
    "    for i in range(0, m):\n",
    "        y_in[i] = y_out[i] - (sum(y_out) - y_out[i]) * delta\n",
    "    if epoch == 100:\n",
    "        break\n",
    "print(\"Epoch:\", epoch)"
   ]
  },
  {
   "cell_type": "code",
   "execution_count": null,
   "id": "88a0fae2",
   "metadata": {},
   "outputs": [],
   "source": []
  },
  {
   "cell_type": "code",
   "execution_count": null,
   "id": "f4f55211",
   "metadata": {},
   "outputs": [],
   "source": []
  }
 ],
 "metadata": {
  "kernelspec": {
   "display_name": "Python 3 (ipykernel)",
   "language": "python",
   "name": "python3"
  },
  "language_info": {
   "codemirror_mode": {
    "name": "ipython",
    "version": 3
   },
   "file_extension": ".py",
   "mimetype": "text/x-python",
   "name": "python",
   "nbconvert_exporter": "python",
   "pygments_lexer": "ipython3",
   "version": "3.11.5"
  }
 },
 "nbformat": 4,
 "nbformat_minor": 5
}
