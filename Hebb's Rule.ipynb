{
 "cells": [
  {
   "cell_type": "code",
   "execution_count": 2,
   "id": "711374b5",
   "metadata": {},
   "outputs": [],
   "source": [
    "import numpy as np\n",
    "x1 = np.array([1,1,1,-1,1,-1,1,1,1])\n",
    "x2 = np.array([1,1,1,1,-1,1,1,1,1])\n",
    "b = 0\n",
    "y = np.array([1,-1])\n",
    "wtold = np.zeros((9,))\n",
    "wtnew = np.zeros((9,))\n",
    "wtnew = wtnew.astype(int)\n",
    "wtold = wtnew.astype(int)\n",
    "bias = 0"
   ]
  },
  {
   "cell_type": "code",
   "execution_count": 5,
   "id": "6f2afc9c",
   "metadata": {},
   "outputs": [
    {
     "name": "stdout",
     "output_type": "stream",
     "text": [
      "First input with target=1\n",
      "Old wt= [ 2  2  2 -2  2 -2  2  2  2]\n",
      "Bias value 2\n",
      "Second input with target=-1\n",
      "New wt= [ 1  1  1 -3  3 -3  1  1  1]\n",
      "Bias value 1\n"
     ]
    }
   ],
   "source": [
    "print('First input with target=1')\n",
    "for i in range(0,9):\n",
    "    wtold[i] = wtold[i] + x1[i]*y[0]\n",
    "wtnew = wtold\n",
    "b = b + y[0]\n",
    "print(\"Old wt=\", wtold)\n",
    "print(\"Bias value\",b)\n",
    "\n",
    "print(\"Second input with target=-1\")\n",
    "for i in range(0, 9):\n",
    "    wtnew[i]=wtold[i]+x2[i]*y[1]\n",
    "b=b+y[1]\n",
    "print(\"New wt=\", wtnew)\n",
    "print(\"Bias value\",b)\n"
   ]
  }
 ],
 "metadata": {
  "kernelspec": {
   "display_name": "Python 3 (ipykernel)",
   "language": "python",
   "name": "python3"
  },
  "language_info": {
   "codemirror_mode": {
    "name": "ipython",
    "version": 3
   },
   "file_extension": ".py",
   "mimetype": "text/x-python",
   "name": "python",
   "nbconvert_exporter": "python",
   "pygments_lexer": "ipython3",
   "version": "3.11.5"
  }
 },
 "nbformat": 4,
 "nbformat_minor": 5
}
